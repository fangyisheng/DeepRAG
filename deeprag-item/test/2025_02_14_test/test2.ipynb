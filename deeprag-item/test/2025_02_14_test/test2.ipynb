{
 "cells": [
  {
   "cell_type": "code",
   "execution_count": 1,
   "metadata": {},
   "outputs": [
    {
     "name": "stdout",
     "output_type": "stream",
     "text": [
      "[{'entity': 1}, {'entity': 1}]\n"
     ]
    }
   ],
   "source": [
    "a = [{\"entity\":1}]\n",
    "b = [{\"entity\":1}]\n",
    "print(a+b)"
   ]
  },
  {
   "cell_type": "code",
   "execution_count": null,
   "metadata": {},
   "outputs": [
    {
     "name": "stdout",
     "output_type": "stream",
     "text": [
      "[{'id': 0, 'text': 'Microsoft', 'type': 'company'}, {'id': 1, 'text': 'Satya Nadella', 'type': 'person'}, {'id': 2, 'text': 'Azure AI', 'type': 'product'}, {'id': 0, 'text': 'Microsoft', 'type': 'company'}, {'id': 1, 'text': 'Satya Nadella', 'type': 'person'}, {'id': 2, 'text': 'Azure AI', 'type': 'product'}]\n"
     ]
    }
   ],
   "source": [
    "test_data_1 = { \"entities\": [ { \"id\": 0, \"text\": \"Microsoft\", \"type\": \"company\" }, { \"id\": 1, \"text\": \"Satya Nadella\", \"type\": \"person\" }, { \"id\": 2, \"text\": \"Azure AI\", \"type\": \"product\", } ], \"relations\": [ { \"head\": 1, \"tail\": 0, \"type\": \"CEO of\" }, { \"head\": 0, \"tail\": 2, \"type\": \"developed\" } ] }\n",
    "\n",
    "\n",
    "test_data_2 ={'entities': [{'id': 0, 'text': 'Microsoft', 'type': 'company'}, {'id': 1, 'text': 'Satya Nadella', 'type': 'person'}, {'id': 2, 'text': 'Azure AI', 'type': 'product'}], 'relations': [{'head': 1, 'tail': 0, 'type': 'CEO of'}, {'head': 0, 'tail': 2, 'type': 'protect'}]} \n",
    "\n",
    "\n",
    "merged_graph = {\n",
    "    \"entities\":[],\n",
    "    \"relations\":[]\n",
    "}\n",
    "\n",
    "print(test_data_1[\"entities\"]+test_data_2[\"entities\"])\n",
    "# for entity in test_data_1[\"entities\"]+test_data_2[\"entities\"]:\n",
    "for entity in test_data_1[\"entities\"] + test_data_2[\"entities\"]:\n",
    "    if entity[\"text\"] not in merged_graph[\"entities\"]\n",
    "\n",
    "\n"
   ]
  },
  {
   "cell_type": "code",
   "execution_count": 6,
   "metadata": {},
   "outputs": [
    {
     "ename": "ValueError",
     "evalue": "Division by zero is not allowed.",
     "output_type": "error",
     "traceback": [
      "\u001b[0;31m---------------------------------------------------------------------------\u001b[0m",
      "\u001b[0;31mValueError\u001b[0m                                Traceback (most recent call last)",
      "Cell \u001b[0;32mIn[6], line 6\u001b[0m\n\u001b[1;32m      3\u001b[0m         \u001b[38;5;28;01mraise\u001b[39;00m \u001b[38;5;167;01mValueError\u001b[39;00m(\u001b[38;5;124m\"\u001b[39m\u001b[38;5;124mDivision by zero is not allowed.\u001b[39m\u001b[38;5;124m\"\u001b[39m)\n\u001b[1;32m      4\u001b[0m     \u001b[38;5;28;01mreturn\u001b[39;00m a \u001b[38;5;241m/\u001b[39m b\n\u001b[0;32m----> 6\u001b[0m divide(\u001b[38;5;241m10\u001b[39m,\u001b[38;5;241m0\u001b[39m)\n",
      "Cell \u001b[0;32mIn[6], line 3\u001b[0m, in \u001b[0;36mdivide\u001b[0;34m(a, b)\u001b[0m\n\u001b[1;32m      1\u001b[0m \u001b[38;5;28;01mdef\u001b[39;00m \u001b[38;5;21mdivide\u001b[39m(a, b):\n\u001b[1;32m      2\u001b[0m     \u001b[38;5;28;01mif\u001b[39;00m b \u001b[38;5;241m==\u001b[39m \u001b[38;5;241m0\u001b[39m:\n\u001b[0;32m----> 3\u001b[0m         \u001b[38;5;28;01mraise\u001b[39;00m \u001b[38;5;167;01mValueError\u001b[39;00m(\u001b[38;5;124m\"\u001b[39m\u001b[38;5;124mDivision by zero is not allowed.\u001b[39m\u001b[38;5;124m\"\u001b[39m)\n\u001b[1;32m      4\u001b[0m     \u001b[38;5;28;01mreturn\u001b[39;00m a \u001b[38;5;241m/\u001b[39m b\n",
      "\u001b[0;31mValueError\u001b[0m: Division by zero is not allowed."
     ]
    }
   ],
   "source": [
    "def divide(a, b):\n",
    "    if b == 0:\n",
    "        raise ValueError(\"Division by zero is not allowed.\")\n",
    "    return a / b\n",
    "\n",
    "divide(10,0)"
   ]
  },
  {
   "cell_type": "code",
   "execution_count": 2,
   "metadata": {},
   "outputs": [
    {
     "name": "stdout",
     "output_type": "stream",
     "text": [
      "a\n"
     ]
    }
   ],
   "source": [
    "a = {\"data\":\"a\"}\n",
    "print(a[\"data\"])"
   ]
  },
  {
   "cell_type": "code",
   "execution_count": 1,
   "metadata": {},
   "outputs": [],
   "source": [
    "empty_list = []\n",
    "\n",
    "for item in empty_list:\n",
    "    print(\"This won't be printed\")"
   ]
  },
  {
   "cell_type": "code",
   "execution_count": null,
   "metadata": {},
   "outputs": [],
   "source": []
  }
 ],
 "metadata": {
  "kernelspec": {
   "display_name": "lightrag",
   "language": "python",
   "name": "python3"
  },
  "language_info": {
   "codemirror_mode": {
    "name": "ipython",
    "version": 3
   },
   "file_extension": ".py",
   "mimetype": "text/x-python",
   "name": "python",
   "nbconvert_exporter": "python",
   "pygments_lexer": "ipython3",
   "version": "3.12.8"
  }
 },
 "nbformat": 4,
 "nbformat_minor": 2
}
